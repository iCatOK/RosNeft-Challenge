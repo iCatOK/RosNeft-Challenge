{
 "metadata": {
  "language_info": {
   "codemirror_mode": {
    "name": "ipython",
    "version": 3
   },
   "file_extension": ".py",
   "mimetype": "text/x-python",
   "name": "python",
   "nbconvert_exporter": "python",
   "pygments_lexer": "ipython3",
   "version": "3.8.5-final"
  },
  "orig_nbformat": 2,
  "kernelspec": {
   "name": "Python 3.8.5 64-bit",
   "display_name": "Python 3.8.5 64-bit",
   "metadata": {
    "interpreter": {
     "hash": "c74d625a622eb7faed69d51549854ab07b21b89a52f349e19c6e417b21491d19"
    }
   }
  }
 },
 "nbformat": 4,
 "nbformat_minor": 2,
 "cells": [
  {
   "cell_type": "code",
   "execution_count": 4,
   "metadata": {},
   "outputs": [],
   "source": [
    "import pandas as pd\n",
    "import numpy as np\n",
    "import os\n",
    "\n",
    "DATA_DIR = \"data\"\n",
    "l1_nrows = 1512\n",
    "l2_nrows = 1248\n",
    "n_horizons = 4\n",
    "y_height = 3001\n",
    "\n",
    "# Загружаем значения высот в узлах сетки для срезов L1 и L2\n",
    "\n",
    "all_data_l1 = np.load(os.path.join(DATA_DIR, \"all_data_L1.npy\"))\n",
    "all_data_l2 = np.load(os.path.join(DATA_DIR, \"all_data_L2.npy\"))\n",
    "\n",
    "assert all_data_l1.shape == (l1_nrows, y_height), \"Неправильный размер all_data_L1.npy\"\n",
    "assert all_data_l2.shape == (l2_nrows, y_height), \"Неправильный размер all_data_L2.npy\"\n",
    "\n",
    "# Загружаем горизонты\n",
    "\n",
    "l1_horizons_train = pd.read_csv(os.path.join(DATA_DIR, \"L1_horizons_train.csv\"))\n",
    "l2_horizons_train = pd.read_csv(os.path.join(DATA_DIR, \"L2_horizons_train.csv\"))\n",
    "\n",
    "assert l1_horizons_train.shape == (l1_nrows, n_horizons+1)\n",
    "assert l2_horizons_train.shape == (l2_nrows, n_horizons+1)\n",
    "\n",
    "# Нам необходимо предсказать значения второго горизонта среза L1 для всех x в промежутке 522, ..., 1451\n",
    "\n",
    "# Посмотрим на пример посылки решения\n",
    "\n",
    "sample_submission = pd.read_csv(os.path.join(DATA_DIR, \"sample_submission.csv\"))\n",
    "my_submission = sample_submission.copy()\n",
    "\n",
    "model = lambda x: 4\n",
    "my_submission.y = my_submission.x.apply(model)\n",
    "\n",
    "my_submission.to_csv(\"my_submission.csv\", index=False)"
   ]
  },
  {
   "cell_type": "code",
   "execution_count": 5,
   "metadata": {},
   "outputs": [],
   "source": [
    "import numpy as np\n",
    "\n",
    "from keras.datasets import mnist\n",
    "from keras.models import Sequential\n",
    "from keras.layers.core import Dense\n",
    "from keras.utils import np_utils\n",
    "from keras.utils import to_categorical\n",
    "\n",
    "from keras.models import Sequential\n",
    "from keras.layers.core import Dense\n",
    "import tensorflow as tf\n"
   ]
  },
  {
   "cell_type": "code",
   "execution_count": 6,
   "metadata": {
    "tags": []
   },
   "outputs": [
    {
     "output_type": "execute_result",
     "data": {
      "text/plain": "nan"
     },
     "metadata": {},
     "execution_count": 6
    }
   ],
   "source": [
    "l2_horizons_train['hor_1'][57]\n",
    "l1_horizons_train['hor_1'][59]\n",
    "l1_horizons_train['hor_2'][52]\n",
    "\n"
   ]
  },
  {
   "cell_type": "code",
   "execution_count": 7,
   "metadata": {},
   "outputs": [
    {
     "output_type": "execute_result",
     "data": {
      "text/plain": "3098290400.0"
     },
     "metadata": {},
     "execution_count": 7
    }
   ],
   "source": [
    "all_data_l2[57][703]"
   ]
  },
  {
   "cell_type": "code",
   "execution_count": 8,
   "metadata": {},
   "outputs": [],
   "source": [
    "def is_none(num):\n",
    "    if num is None:\n",
    "        return 0.0\n",
    "    else:\n",
    "        return num"
   ]
  },
  {
   "cell_type": "code",
   "execution_count": 9,
   "metadata": {},
   "outputs": [],
   "source": [
    "def add_output(output, hor_name):\n",
    "    for i in range(59, 1225, 1):\n",
    "        one_output = []\n",
    "        one_output.append(i)\n",
    "        one_output.append(is_none(l2_horizons_train[hor_name][i]))\n",
    "        output.append(one_output)\n",
    "    print(len(output))"
   ]
  },
  {
   "cell_type": "code",
   "execution_count": 10,
   "metadata": {},
   "outputs": [],
   "source": [
    "def add_train(train, hor_name, start, stop):\n",
    "    for i in range(start, stop, 1):\n",
    "        one_train_set = []\n",
    "        one_train_set.append(i)\n",
    "        one_train_set.append(is_none(l2_horizons_train[hor_name][i]))\n",
    "        one_train_set.append(is_none(all_data_l2[i+1][int(l2_horizons_train[hor_name][i])]))\n",
    "        one_train_set.append(is_none(all_data_l2[i+1][int(l2_horizons_train[hor_name][i+1])]))\n",
    "        one_train_set.append(is_none(all_data_l2[i+1][int(l2_horizons_train[hor_name][i-1])]))\n",
    "        train.append(one_train_set)\n",
    "        if i == 1:\n",
    "            print(one_train_set)\n",
    "    print(train[0])"
   ]
  },
  {
   "cell_type": "code",
   "execution_count": 11,
   "metadata": {
    "tags": []
   },
   "outputs": [
    {
     "output_type": "stream",
     "name": "stdout",
     "text": "[58, 703.0, 3604777500.0, 3604777500.0, 3604777500.0]\n[58, 703.0, 3604777500.0, 3604777500.0, 3604777500.0]\n[58, 703.0, 3604777500.0, 3604777500.0, 3604777500.0]\n3498\n"
    }
   ],
   "source": [
    "train = []\n",
    "add_train(train, 'hor_1', 58, 1224)\n",
    "add_train(train, 'hor_3', 58, 1224)\n",
    "add_train(train, 'hor_4', 58, 1224)\n",
    "print(len(train))\n"
   ]
  },
  {
   "cell_type": "code",
   "execution_count": 12,
   "metadata": {},
   "outputs": [
    {
     "output_type": "execute_result",
     "data": {
      "text/plain": "3542290400.0"
     },
     "metadata": {},
     "execution_count": 12
    }
   ],
   "source": [
    "all_data_l2[59][int(l2_horizons_train['hor_1'][70])]"
   ]
  },
  {
   "cell_type": "code",
   "execution_count": 13,
   "metadata": {
    "tags": []
   },
   "outputs": [
    {
     "output_type": "stream",
     "name": "stdout",
     "text": "1166\n2332\n3498\n"
    }
   ],
   "source": [
    "output = []\n",
    "add_output(output, 'hor_1')\n",
    "add_output(output, 'hor_3')\n",
    "add_output(output, 'hor_4')"
   ]
  },
  {
   "cell_type": "code",
   "execution_count": 14,
   "metadata": {
    "tags": []
   },
   "outputs": [
    {
     "output_type": "stream",
     "name": "stdout",
     "text": "[58, 814.59998, 2461823000.0, 2461823000.0, 2461823000.0]\n3498\n"
    }
   ],
   "source": [
    "test = []\n",
    "\n",
    "for i in range(58, 1224, 1):\n",
    "    one_train_set = []\n",
    "    one_train_set.append(i)\n",
    "    one_train_set.append(is_none(l2_horizons_train['hor_2'][i]))\n",
    "    one_train_set.append(is_none(all_data_l2[i+1][int(l2_horizons_train['hor_2'][i])]))\n",
    "    one_train_set.append(is_none(all_data_l2[i+1][int(l2_horizons_train['hor_2'][i+1])]))\n",
    "    one_train_set.append(is_none(all_data_l2[i+1][int(l2_horizons_train['hor_2'][i-1])]))\n",
    "    test.append(one_train_set)\n",
    "print(test[0])\n",
    "\n",
    "test_output = []\n",
    "for i in range(59, 1225, 1):\n",
    "    one_output = []\n",
    "    one_output.append(i)\n",
    "    one_output.append(is_none(l2_horizons_train['hor_2'][i]))\n",
    "    test_output.append(one_output)\n",
    "print(len(output))"
   ]
  },
  {
   "cell_type": "code",
   "execution_count": 15,
   "metadata": {
    "tags": []
   },
   "outputs": [
    {
     "output_type": "stream",
     "name": "stdout",
     "text": "[58, 814.59998, 2461823000.0, 2461823000.0, 2461823000.0]\n"
    }
   ],
   "source": [
    "pred = []\n",
    "add_train(pred, 'hor_2', 58, 521)"
   ]
  },
  {
   "cell_type": "code",
   "execution_count": 16,
   "metadata": {},
   "outputs": [
    {
     "output_type": "execute_result",
     "data": {
      "text/plain": "array([[5.80000000e-08, 7.03000000e-07, 3.60477747e+00, 3.60477747e+00,\n        3.60477747e+00],\n       [5.90000000e-08, 7.03200010e-07, 3.82076826e+00, 3.82076826e+00,\n        3.82076826e+00],\n       [6.00000000e-08, 7.03400020e-07, 4.04334003e+00, 4.04334003e+00,\n        4.04334003e+00],\n       ...,\n       [1.22100000e-06, 9.68700010e-07, 3.57437133e+00, 3.57437133e+00,\n        3.57437133e+00],\n       [1.22200000e-06, 9.68799990e-07, 3.39701146e+00, 3.39701146e+00,\n        3.39701146e+00],\n       [1.22300000e-06, 9.68799990e-07, 3.30979226e+00, 3.30979226e+00,\n        3.30979226e+00]])"
     },
     "metadata": {},
     "execution_count": 16
    }
   ],
   "source": [
    "test_output = np.array(test_output)\n",
    "test = np.array(test)\n",
    "output = np.array(output)\n",
    "train = np.array(train)\n",
    "\n",
    "test_output /= 1000000000\n",
    "test /= 1000000000\n",
    "output /= 1000000000\n",
    "train /= 1000000000\n",
    "\n",
    "train"
   ]
  },
  {
   "cell_type": "code",
   "execution_count": 17,
   "metadata": {},
   "outputs": [
    {
     "output_type": "execute_result",
     "data": {
      "text/plain": "(3498, 5)"
     },
     "metadata": {},
     "execution_count": 17
    }
   ],
   "source": [
    "train.shape"
   ]
  },
  {
   "cell_type": "code",
   "execution_count": 18,
   "metadata": {},
   "outputs": [],
   "source": [
    "output = to_categorical(output)\n",
    "test_output = to_categorical(test_output)"
   ]
  },
  {
   "cell_type": "code",
   "execution_count": 19,
   "metadata": {},
   "outputs": [],
   "source": [
    "model = Sequential()\n",
    "model.add(Dense(5, input_dim=5, activation='sigmoid'))\n",
    "model.add(Dense(5, input_dim=5, activation='sigmoid'))\n",
    "model.add(Dense(2))"
   ]
  },
  {
   "cell_type": "code",
   "execution_count": 21,
   "metadata": {},
   "outputs": [],
   "source": [
    "optimizer = tf.keras.optimizers.RMSprop(0.0001)\n",
    "\n",
    "model.compile(loss='mse',\n",
    "                optimizer=optimizer,\n",
    "                metrics=['mae', 'mse'])"
   ]
  },
  {
   "cell_type": "code",
   "execution_count": 22,
   "metadata": {
    "tags": []
   },
   "outputs": [
    {
     "output_type": "stream",
     "name": "stdout",
     "text": "Model: \"sequential\"\n_________________________________________________________________\nLayer (type)                 Output Shape              Param #   \n=================================================================\ndense (Dense)                (None, 5)                 30        \n_________________________________________________________________\ndense_1 (Dense)              (None, 5)                 30        \n_________________________________________________________________\ndense_2 (Dense)              (None, 2)                 12        \n=================================================================\nTotal params: 72\nTrainable params: 72\nNon-trainable params: 0\n_________________________________________________________________\n"
    }
   ],
   "source": [
    "model.summary()"
   ]
  },
  {
   "cell_type": "code",
   "execution_count": 23,
   "metadata": {
    "tags": []
   },
   "outputs": [
    {
     "output_type": "stream",
     "name": "stdout",
     "text": "Epoch 1/50\n110/110 - 0s - loss: 2.2540 - mae: 1.4700 - mse: 2.2540 - val_loss: 2.0744 - val_mae: 1.4023 - val_mse: 2.0744\nEpoch 2/50\n110/110 - 0s - loss: 2.0816 - mae: 1.4124 - mse: 2.0816 - val_loss: 1.9112 - val_mae: 1.3452 - val_mse: 1.9112\nEpoch 3/50\n110/110 - 0s - loss: 1.9190 - mae: 1.3558 - mse: 1.9190 - val_loss: 1.7581 - val_mae: 1.2892 - val_mse: 1.7581\nEpoch 4/50\n110/110 - 0s - loss: 1.7650 - mae: 1.2998 - mse: 1.7650 - val_loss: 1.6145 - val_mae: 1.2344 - val_mse: 1.6145\nEpoch 5/50\n110/110 - 0s - loss: 1.6191 - mae: 1.2445 - mse: 1.6191 - val_loss: 1.4801 - val_mae: 1.1807 - val_mse: 1.4801\nEpoch 6/50\n110/110 - 0s - loss: 1.4813 - mae: 1.1898 - mse: 1.4813 - val_loss: 1.3540 - val_mae: 1.1279 - val_mse: 1.3540\nEpoch 7/50\n110/110 - 0s - loss: 1.3510 - mae: 1.1357 - mse: 1.3510 - val_loss: 1.2356 - val_mae: 1.0761 - val_mse: 1.2356\nEpoch 8/50\n110/110 - 0s - loss: 1.2281 - mae: 1.0821 - mse: 1.2281 - val_loss: 1.1246 - val_mae: 1.0251 - val_mse: 1.1246\nEpoch 9/50\n110/110 - 0s - loss: 1.1120 - mae: 1.0290 - mse: 1.1120 - val_loss: 1.0202 - val_mae: 0.9748 - val_mse: 1.0202\nEpoch 10/50\n110/110 - 0s - loss: 1.0024 - mae: 0.9762 - mse: 1.0024 - val_loss: 0.9213 - val_mae: 0.9247 - val_mse: 0.9213\nEpoch 11/50\n110/110 - 0s - loss: 0.8989 - mae: 0.9237 - mse: 0.8989 - val_loss: 0.8276 - val_mae: 0.8752 - val_mse: 0.8276\nEpoch 12/50\n110/110 - 0s - loss: 0.8013 - mae: 0.8718 - mse: 0.8013 - val_loss: 0.7383 - val_mae: 0.8262 - val_mse: 0.7383\nEpoch 13/50\n110/110 - 0s - loss: 0.7092 - mae: 0.8200 - mse: 0.7092 - val_loss: 0.6534 - val_mae: 0.7768 - val_mse: 0.6534\nEpoch 14/50\n110/110 - 0s - loss: 0.6225 - mae: 0.7682 - mse: 0.6225 - val_loss: 0.5729 - val_mae: 0.7270 - val_mse: 0.5729\nEpoch 15/50\n110/110 - 0s - loss: 0.5414 - mae: 0.7162 - mse: 0.5414 - val_loss: 0.4970 - val_mae: 0.6768 - val_mse: 0.4970\nEpoch 16/50\n110/110 - 0s - loss: 0.4656 - mae: 0.6640 - mse: 0.4656 - val_loss: 0.4257 - val_mae: 0.6261 - val_mse: 0.4257\nEpoch 17/50\n110/110 - 0s - loss: 0.3954 - mae: 0.6117 - mse: 0.3954 - val_loss: 0.3593 - val_mae: 0.5749 - val_mse: 0.3593\nEpoch 18/50\n110/110 - 0s - loss: 0.3306 - mae: 0.5593 - mse: 0.3306 - val_loss: 0.2979 - val_mae: 0.5233 - val_mse: 0.2979\nEpoch 19/50\n110/110 - 0s - loss: 0.2715 - mae: 0.5067 - mse: 0.2715 - val_loss: 0.2417 - val_mae: 0.4712 - val_mse: 0.2417\nEpoch 20/50\n110/110 - 0s - loss: 0.2181 - mae: 0.4540 - mse: 0.2181 - val_loss: 0.1910 - val_mae: 0.4186 - val_mse: 0.1910\nEpoch 21/50\n110/110 - 0s - loss: 0.1706 - mae: 0.4012 - mse: 0.1706 - val_loss: 0.1461 - val_mae: 0.3657 - val_mse: 0.1461\nEpoch 22/50\n110/110 - 0s - loss: 0.1289 - mae: 0.3483 - mse: 0.1289 - val_loss: 0.1070 - val_mae: 0.3123 - val_mse: 0.1070\nEpoch 23/50\n110/110 - 0s - loss: 0.0931 - mae: 0.2953 - mse: 0.0931 - val_loss: 0.0740 - val_mae: 0.2585 - val_mse: 0.0740\nEpoch 24/50\n110/110 - 0s - loss: 0.0633 - mae: 0.2423 - mse: 0.0633 - val_loss: 0.0472 - val_mae: 0.2047 - val_mse: 0.0472\nEpoch 25/50\n110/110 - 0s - loss: 0.0394 - mae: 0.1896 - mse: 0.0394 - val_loss: 0.0265 - val_mae: 0.1511 - val_mse: 0.0265\nEpoch 26/50\n110/110 - 0s - loss: 0.0214 - mae: 0.1375 - mse: 0.0214 - val_loss: 0.0119 - val_mae: 0.0984 - val_mse: 0.0119\nEpoch 27/50\n110/110 - 0s - loss: 0.0092 - mae: 0.0866 - mse: 0.0092 - val_loss: 0.0034 - val_mae: 0.0474 - val_mse: 0.0034\nEpoch 28/50\n110/110 - 0s - loss: 0.0026 - mae: 0.0418 - mse: 0.0026 - val_loss: 3.7595e-04 - val_mae: 0.0185 - val_mse: 3.7595e-04\nEpoch 29/50\n110/110 - 0s - loss: 5.4146e-04 - mae: 0.0189 - mse: 5.4146e-04 - val_loss: 2.0811e-04 - val_mae: 0.0119 - val_mse: 2.0811e-04\nEpoch 30/50\n110/110 - 0s - loss: 2.3377e-04 - mae: 0.0120 - mse: 2.3377e-04 - val_loss: 8.9317e-05 - val_mae: 0.0071 - val_mse: 8.9317e-05\nEpoch 31/50\n110/110 - 0s - loss: 8.9250e-05 - mae: 0.0071 - mse: 8.9250e-05 - val_loss: 5.4745e-05 - val_mae: 0.0047 - val_mse: 5.4745e-05\nEpoch 32/50\n110/110 - 0s - loss: 3.4526e-05 - mae: 0.0042 - mse: 3.4526e-05 - val_loss: 5.0580e-05 - val_mae: 0.0047 - val_mse: 5.0580e-05\nEpoch 33/50\n110/110 - 0s - loss: 2.8125e-05 - mae: 0.0037 - mse: 2.8125e-05 - val_loss: 4.7204e-05 - val_mae: 0.0045 - val_mse: 4.7204e-05\nEpoch 34/50\n110/110 - 0s - loss: 2.6381e-05 - mae: 0.0036 - mse: 2.6381e-05 - val_loss: 4.4983e-05 - val_mae: 0.0044 - val_mse: 4.4983e-05\nEpoch 35/50\n110/110 - 0s - loss: 2.4722e-05 - mae: 0.0035 - mse: 2.4722e-05 - val_loss: 4.1512e-05 - val_mae: 0.0039 - val_mse: 4.1512e-05\nEpoch 36/50\n110/110 - 0s - loss: 2.3352e-05 - mae: 0.0034 - mse: 2.3352e-05 - val_loss: 3.8905e-05 - val_mae: 0.0038 - val_mse: 3.8905e-05\nEpoch 37/50\n110/110 - 0s - loss: 2.1900e-05 - mae: 0.0032 - mse: 2.1900e-05 - val_loss: 3.7836e-05 - val_mae: 0.0040 - val_mse: 3.7836e-05\nEpoch 38/50\n110/110 - 0s - loss: 2.0637e-05 - mae: 0.0031 - mse: 2.0637e-05 - val_loss: 3.5215e-05 - val_mae: 0.0035 - val_mse: 3.5215e-05\nEpoch 39/50\n110/110 - 0s - loss: 1.9471e-05 - mae: 0.0030 - mse: 1.9471e-05 - val_loss: 3.3141e-05 - val_mae: 0.0035 - val_mse: 3.3141e-05\nEpoch 40/50\n110/110 - 0s - loss: 1.8350e-05 - mae: 0.0029 - mse: 1.8350e-05 - val_loss: 3.1586e-05 - val_mae: 0.0032 - val_mse: 3.1586e-05\nEpoch 41/50\n110/110 - 0s - loss: 1.7245e-05 - mae: 0.0028 - mse: 1.7245e-05 - val_loss: 2.9671e-05 - val_mae: 0.0032 - val_mse: 2.9671e-05\nEpoch 42/50\n110/110 - 0s - loss: 1.6263e-05 - mae: 0.0027 - mse: 1.6263e-05 - val_loss: 2.8523e-05 - val_mae: 0.0031 - val_mse: 2.8523e-05\nEpoch 43/50\n110/110 - 0s - loss: 1.5324e-05 - mae: 0.0026 - mse: 1.5324e-05 - val_loss: 2.7703e-05 - val_mae: 0.0033 - val_mse: 2.7703e-05\nEpoch 44/50\n110/110 - 0s - loss: 1.4527e-05 - mae: 0.0025 - mse: 1.4527e-05 - val_loss: 2.5794e-05 - val_mae: 0.0031 - val_mse: 2.5794e-05\nEpoch 45/50\n110/110 - 0s - loss: 1.3611e-05 - mae: 0.0024 - mse: 1.3611e-05 - val_loss: 2.3744e-05 - val_mae: 0.0025 - val_mse: 2.3744e-05\nEpoch 46/50\n110/110 - 0s - loss: 1.2900e-05 - mae: 0.0023 - mse: 1.2900e-05 - val_loss: 2.2387e-05 - val_mae: 0.0026 - val_mse: 2.2387e-05\nEpoch 47/50\n110/110 - 0s - loss: 1.2211e-05 - mae: 0.0022 - mse: 1.2211e-05 - val_loss: 2.1704e-05 - val_mae: 0.0025 - val_mse: 2.1704e-05\nEpoch 48/50\n110/110 - 0s - loss: 1.1553e-05 - mae: 0.0022 - mse: 1.1553e-05 - val_loss: 2.0473e-05 - val_mae: 0.0022 - val_mse: 2.0473e-05\nEpoch 49/50\n110/110 - 0s - loss: 1.0968e-05 - mae: 0.0021 - mse: 1.0968e-05 - val_loss: 2.0362e-05 - val_mae: 0.0022 - val_mse: 2.0362e-05\nEpoch 50/50\n110/110 - 0s - loss: 1.0454e-05 - mae: 0.0020 - mse: 1.0454e-05 - val_loss: 1.8572e-05 - val_mae: 0.0021 - val_mse: 1.8572e-05\n"
    }
   ],
   "source": [
    "history = model.fit(train, output, epochs=50, verbose=2, validation_data=(test, test_output))"
   ]
  },
  {
   "cell_type": "code",
   "execution_count": 24,
   "metadata": {},
   "outputs": [
    {
     "output_type": "error",
     "ename": "NameError",
     "evalue": "name 'plt' is not defined",
     "traceback": [
      "\u001b[1;31m---------------------------------------------------------------------------\u001b[0m",
      "\u001b[1;31mNameError\u001b[0m                                 Traceback (most recent call last)",
      "\u001b[1;32m<ipython-input-24-909d76f666da>\u001b[0m in \u001b[0;36m<module>\u001b[1;34m\u001b[0m\n\u001b[0;32m     25\u001b[0m \u001b[1;33m\u001b[0m\u001b[0m\n\u001b[0;32m     26\u001b[0m \u001b[1;33m\u001b[0m\u001b[0m\n\u001b[1;32m---> 27\u001b[1;33m \u001b[0mplot_history\u001b[0m\u001b[1;33m(\u001b[0m\u001b[0mhistory\u001b[0m\u001b[1;33m)\u001b[0m\u001b[1;33m\u001b[0m\u001b[1;33m\u001b[0m\u001b[0m\n\u001b[0m",
      "\u001b[1;32m<ipython-input-24-909d76f666da>\u001b[0m in \u001b[0;36mplot_history\u001b[1;34m(history)\u001b[0m\n\u001b[0;32m      3\u001b[0m   \u001b[0mhist\u001b[0m\u001b[1;33m[\u001b[0m\u001b[1;34m'epoch'\u001b[0m\u001b[1;33m]\u001b[0m \u001b[1;33m=\u001b[0m \u001b[0mhistory\u001b[0m\u001b[1;33m.\u001b[0m\u001b[0mepoch\u001b[0m\u001b[1;33m\u001b[0m\u001b[1;33m\u001b[0m\u001b[0m\n\u001b[0;32m      4\u001b[0m \u001b[1;33m\u001b[0m\u001b[0m\n\u001b[1;32m----> 5\u001b[1;33m   \u001b[0mplt\u001b[0m\u001b[1;33m.\u001b[0m\u001b[0mfigure\u001b[0m\u001b[1;33m(\u001b[0m\u001b[1;33m)\u001b[0m\u001b[1;33m\u001b[0m\u001b[1;33m\u001b[0m\u001b[0m\n\u001b[0m\u001b[0;32m      6\u001b[0m   \u001b[0mplt\u001b[0m\u001b[1;33m.\u001b[0m\u001b[0mxlabel\u001b[0m\u001b[1;33m(\u001b[0m\u001b[1;34m'Epoch'\u001b[0m\u001b[1;33m)\u001b[0m\u001b[1;33m\u001b[0m\u001b[1;33m\u001b[0m\u001b[0m\n\u001b[0;32m      7\u001b[0m   \u001b[0mplt\u001b[0m\u001b[1;33m.\u001b[0m\u001b[0mylabel\u001b[0m\u001b[1;33m(\u001b[0m\u001b[1;34m'Mean Abs Error [MPG]'\u001b[0m\u001b[1;33m)\u001b[0m\u001b[1;33m\u001b[0m\u001b[1;33m\u001b[0m\u001b[0m\n",
      "\u001b[1;31mNameError\u001b[0m: name 'plt' is not defined"
     ]
    }
   ],
   "source": [
    "def plot_history(history):\n",
    "  hist = pd.DataFrame(history.history)\n",
    "  hist['epoch'] = history.epoch\n",
    "\n",
    "  plt.figure()\n",
    "  plt.xlabel('Epoch')\n",
    "  plt.ylabel('Mean Abs Error [MPG]')\n",
    "  plt.plot(hist['epoch'], hist['mae'],\n",
    "           label='Train Error')\n",
    "  plt.plot(hist['epoch'], hist['val_mae'],\n",
    "           label = 'Val Error')\n",
    "  plt.ylim([0,5])\n",
    "  plt.legend()\n",
    "\n",
    "  plt.figure()\n",
    "  plt.xlabel('Epoch')\n",
    "  plt.ylabel('Mean Square Error [$MPG^2$]')\n",
    "  plt.plot(hist['epoch'], hist['mse'],\n",
    "           label='Train Error')\n",
    "  plt.plot(hist['epoch'], hist['val_mse'],\n",
    "           label = 'Val Error')\n",
    "  plt.ylim([0,20])\n",
    "  plt.legend()\n",
    "  plt.show()\n",
    "\n",
    "\n",
    "plot_history(history)"
   ]
  },
  {
   "cell_type": "code",
   "execution_count": 28,
   "metadata": {
    "tags": []
   },
   "outputs": [],
   "source": [
    "test_predictions = model.predict(pred)\n",
    "test_predictions *= 1000\n",
    "\n",
    "with open('data/sample_submission.csv', 'r') as old:\n",
    "    new_sample = open('data/my_submission.csv', 'w')\n",
    "    new_sample.write('x,y\\n')\n",
    "    old.readline()\n",
    "    for i in test_predictions:\n",
    "        x = old.readline().split(',')[0]\n",
    "        new_sample.write('{},{:.2f}\\n'.format(x, i[1]))\n",
    "    for i in range(467):\n",
    "        new_sample.write('{},{:.2f}\\n'.format(984+i, 965.6))\n",
    "# test_predictions\n",
    "# print(pred[0])"
   ]
  },
  {
   "cell_type": "code",
   "execution_count": 1,
   "metadata": {},
   "outputs": [
    {
     "output_type": "execute_result",
     "data": {
      "text/plain": "467"
     },
     "metadata": {},
     "execution_count": 1
    }
   ],
   "source": [
    "1451 - 984"
   ]
  },
  {
   "cell_type": "code",
   "execution_count": null,
   "metadata": {},
   "outputs": [],
   "source": []
  }
 ]
}